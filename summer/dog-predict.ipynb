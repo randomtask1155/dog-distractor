{
 "cells": [
  {
   "cell_type": "code",
   "execution_count": 20,
   "id": "24db8b2e-0a73-4cc7-b149-053f24097b5e",
   "metadata": {},
   "outputs": [],
   "source": [
    "from PIL import Image\n",
    "import glob\n",
    "import os\n",
    "from pathlib import Path\n",
    "#from tflite_model_maker import image_classifier, config\n",
    "from matplotlib import pyplot as plt\n",
    "import tensorflow as tf"
   ]
  },
  {
   "cell_type": "code",
   "execution_count": 21,
   "id": "37719fe8-fc5f-4d31-a749-49370114f55f",
   "metadata": {},
   "outputs": [],
   "source": [
    "tflite_interpreter = tf.lite.Interpreter(model_path='content/Models/model_fp16.tflite')\n",
    "class_names = [\"Cat\", \"Dog\"]\n",
    "tflite_interpreter.allocate_tensors()"
   ]
  },
  {
   "cell_type": "code",
   "execution_count": 22,
   "id": "cee8ef40-7f5c-4110-b5ad-a6bbc7c67352",
   "metadata": {},
   "outputs": [],
   "source": [
    "def set_input_tensor(interpreter, image):\n",
    "  \"\"\"Sets the input tensor.\"\"\"\n",
    "  tensor_index = interpreter.get_input_details()[0]['index']\n",
    "  input_tensor = interpreter.tensor(tensor_index)()[0]\n",
    "  input_tensor[:, :] = image"
   ]
  },
  {
   "cell_type": "code",
   "execution_count": 23,
   "id": "957a3bc4-d892-4179-a14f-e85f449e4979",
   "metadata": {},
   "outputs": [],
   "source": [
    "def get_predictions(input_image):\n",
    "    output_details = tflite_interpreter.get_output_details()\n",
    "    set_input_tensor(tflite_interpreter, input_image)\n",
    "    tflite_interpreter.invoke()\n",
    "    tflite_model_prediction = tflite_interpreter.get_tensor(output_details[0][\"index\"])\n",
    "    print(tflite_model_prediction)\n",
    "    return tflite_model_prediction\n",
    "    tflite_model_prediction = tflite_model_prediction.squeeze().argmax(axis = 0)\n",
    "    pred_class = class_names[tflite_model_prediction]\n",
    "    print(tflite_model_prediction)\n",
    "    print(pred_class)\n",
    "    #return pred_class "
   ]
  },
  {
   "cell_type": "code",
   "execution_count": 24,
   "id": "ef7ff1ae-cbce-4c54-8441-753c4c5f8104",
   "metadata": {},
   "outputs": [
    {
     "name": "stdout",
     "output_type": "stream",
     "text": [
      "content/samples/IMG_0085.JPG\n",
      "[[0.8950261  0.10497386]]\n",
      "its a cat/dog\n",
      "content/samples/cat.JPG\n",
      "[[0.94732946 0.05267052]]\n",
      "its a cat/dog\n",
      "content/samples/IMG_1766.JPG\n",
      "[[0.90273315 0.09726681]]\n",
      "its a cat/dog\n",
      "content/samples/IMG_4274.JPG\n",
      "[[0.570178 0.429822]]\n",
      "nope\n",
      "content/samples/IMG_4825.JPG\n",
      "[[0.41351184 0.5864881 ]]\n",
      "nope\n",
      "content/samples/IMG_3379.JPG\n",
      "[[0.76960105 0.23039901]]\n",
      "its a cat/dog\n",
      "content/samples/buns.jpg\n",
      "[[0.5000508  0.49994922]]\n",
      "nope\n"
     ]
    }
   ],
   "source": [
    "samplePath=\"content/samples\"\n",
    "for f in os.listdir(samplePath):\n",
    "    filename = os.path.join(samplePath,f)\n",
    "    if os.path.isfile(filename):\n",
    "        print(filename)\n",
    "        img = tf.keras.preprocessing.image.load_img(filename , grayscale=False, color_mode='rgb', target_size=(224,224,3), interpolation='nearest')\n",
    "        img_array = tf.keras.preprocessing.image.img_to_array(img)\n",
    "        img_array = tf.expand_dims(img_array, 0)\n",
    "        result = get_predictions(input_image=img_array)\n",
    "        if len(result) < 1 or len(result[0]) < 2:\n",
    "            print(\"invalid result\")\n",
    "            continue\n",
    "        if result[0][0] > 0.6 or result[0][1] > 0.6:\n",
    "            print(\"its a cat/dog\")\n",
    "        else:\n",
    "            print(\"nope\")"
   ]
  },
  {
   "cell_type": "code",
   "execution_count": null,
   "id": "30db8383-1036-4925-ad94-0ddd4269dec3",
   "metadata": {},
   "outputs": [],
   "source": []
  }
 ],
 "metadata": {
  "kernelspec": {
   "display_name": "Python 3",
   "language": "python",
   "name": "python3"
  },
  "language_info": {
   "codemirror_mode": {
    "name": "ipython",
    "version": 3
   },
   "file_extension": ".py",
   "mimetype": "text/x-python",
   "name": "python",
   "nbconvert_exporter": "python",
   "pygments_lexer": "ipython3",
   "version": "3.7.13"
  }
 },
 "nbformat": 4,
 "nbformat_minor": 5
}
